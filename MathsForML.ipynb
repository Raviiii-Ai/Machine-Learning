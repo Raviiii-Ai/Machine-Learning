{
 "cells": [
  {
   "cell_type": "code",
   "execution_count": 7,
   "id": "1f00651b-a2e1-4750-a917-b9b983e965da",
   "metadata": {},
   "outputs": [
    {
     "name": "stdout",
     "output_type": "stream",
     "text": [
      "[10 20]\n",
      "[30 40]\n"
     ]
    },
    {
     "data": {
      "text/plain": [
       "array([-20, -20])"
      ]
     },
     "execution_count": 7,
     "metadata": {},
     "output_type": "execute_result"
    }
   ],
   "source": [
    "import numpy as np\n",
    "a=np.array([10,20])\n",
    "b=np.array([30,40])\n",
    "print(a)\n",
    "print(b)\n",
    "a-b\n",
    "\n"
   ]
  },
  {
   "cell_type": "code",
   "execution_count": 13,
   "id": "fe2683a2-471b-4829-aa1f-ecbec47b8cfd",
   "metadata": {},
   "outputs": [
    {
     "data": {
      "text/plain": [
       "array([10, 20, 30, 40, 50])"
      ]
     },
     "execution_count": 13,
     "metadata": {},
     "output_type": "execute_result"
    }
   ],
   "source": [
    "#Scaler Multiplication\n",
    "a=10\n",
    "u=np.array([1,2,3,4,5])\n",
    "(a*u).T\n"
   ]
  },
  {
   "cell_type": "code",
   "execution_count": 14,
   "id": "5828a60d-ff60-47c2-b589-b0793d6120b9",
   "metadata": {},
   "outputs": [
    {
     "name": "stdout",
     "output_type": "stream",
     "text": [
      "1100\n"
     ]
    },
    {
     "data": {
      "text/plain": [
       "1100"
      ]
     },
     "execution_count": 14,
     "metadata": {},
     "output_type": "execute_result"
    }
   ],
   "source": [
    "#vector-Multiplication\n",
    "u=np.array([10,20])\n",
    "v=np.array([30,40])\n",
    "\n",
    "print(10*30+20*40)\n",
    "np.dot(u,v)\n"
   ]
  },
  {
   "cell_type": "code",
   "execution_count": 19,
   "id": "ff8a8e58-3586-4a89-9d92-0531051e69f5",
   "metadata": {},
   "outputs": [
    {
     "name": "stdout",
     "output_type": "stream",
     "text": [
      "[[12 10]\n",
      " [ 4  6]\n",
      " [40 31]]=a\n",
      "\n",
      "[[ 2  6]\n",
      " [46 63]\n",
      " [50 10]]=b\n",
      "\n"
     ]
    },
    {
     "data": {
      "text/plain": [
       "array([[14, 16],\n",
       "       [50, 69],\n",
       "       [90, 41]])"
      ]
     },
     "execution_count": 19,
     "metadata": {},
     "output_type": "execute_result"
    }
   ],
   "source": [
    "#Matrix Multiplication\n",
    "\n",
    "a=np.array([[12,10],[4,6],[40,31]])\n",
    "b=np.array([[2,6],[46,63],[50,10]])\n",
    "\n",
    "print(a,end=\"=a\\n\\n\")\n",
    "print(b,end=\"=b\\n\\n\")\n",
    "\n",
    "a+b"
   ]
  },
  {
   "cell_type": "code",
   "execution_count": 20,
   "id": "f76b4c10-0c59-4294-b0e5-2bf57a6b33f4",
   "metadata": {},
   "outputs": [
    {
     "data": {
      "text/plain": [
       "array([[ 10,   4],\n",
       "       [-42, -57],\n",
       "       [-10,  21]])"
      ]
     },
     "execution_count": 20,
     "metadata": {},
     "output_type": "execute_result"
    }
   ],
   "source": [
    "#matrix Subtraction\n",
    "a-b"
   ]
  },
  {
   "cell_type": "code",
   "execution_count": 21,
   "id": "066f1ff4-7335-48ca-b644-a0b9adc27b6a",
   "metadata": {},
   "outputs": [
    {
     "data": {
      "text/plain": [
       "array([170, 390])"
      ]
     },
     "execution_count": 21,
     "metadata": {},
     "output_type": "execute_result"
    }
   ],
   "source": [
    "#Matrix and vector multiplication\n",
    "\n",
    "a=[[5,10],[15,20]]\n",
    "b=[10,12]\n",
    "\n",
    "np.dot(a,b)"
   ]
  },
  {
   "cell_type": "code",
   "execution_count": 22,
   "id": "dfd15f61-d083-4895-a163-9a2619a6681b",
   "metadata": {},
   "outputs": [
    {
     "data": {
      "text/plain": [
       "array([[105,  80],\n",
       "       [225, 190],\n",
       "       [345, 300]])"
      ]
     },
     "execution_count": 22,
     "metadata": {},
     "output_type": "execute_result"
    }
   ],
   "source": [
    "#matrix to matrix multiplication\n",
    "a=[[5,10],[15,20],[25,30]]\n",
    "b=[[3,6],[9,5]]\n",
    "np.dot(a,b)"
   ]
  },
  {
   "cell_type": "code",
   "execution_count": 23,
   "id": "98ebfc30-cf86-4920-b21b-8b4025236dd2",
   "metadata": {},
   "outputs": [
    {
     "name": "stdout",
     "output_type": "stream",
     "text": [
      "[[ 5 10]\n",
      " [15 20]\n",
      " [25 30]]=a\n",
      "\n",
      "[[ 5 15 25]\n",
      " [10 20 30]]= a.T"
     ]
    }
   ],
   "source": [
    "#Transpose a matrix\n",
    "\n",
    "a=np.array([[5,10],[15,20],[25,30]])\n",
    "print(a,end=\"=a\\n\\n\")\n",
    "print(a.T,end=\"= a.T\")"
   ]
  },
  {
   "cell_type": "code",
   "execution_count": 27,
   "id": "e0cbccc4-6b75-478c-b931-5bd087d16696",
   "metadata": {},
   "outputs": [
    {
     "name": "stdout",
     "output_type": "stream",
     "text": [
      "[[1. 0.]\n",
      " [0. 1.]]=I1\n",
      "\n",
      "[[1. 0. 0.]\n",
      " [0. 1. 0.]\n",
      " [0. 0. 1.]]=I2\n",
      "\n"
     ]
    }
   ],
   "source": [
    "#crete an Identity matrix\n",
    "I1=np.eye(2)\n",
    "I2=np.eye(3)\n",
    "print(I1,end=\"=I1\\n\\n\")\n",
    "print(I2,end=\"=I2\\n\\n\")"
   ]
  },
  {
   "cell_type": "code",
   "execution_count": 25,
   "id": "94d4113e-3119-44b1-a7f1-e64202e35aa3",
   "metadata": {},
   "outputs": [
    {
     "name": "stdout",
     "output_type": "stream",
     "text": [
      "[[2 1 0]\n",
      " [0 1 0]\n",
      " [1 2 1]]= a\n",
      "\n",
      "[[ 0.5 -0.5  0. ]\n",
      " [ 0.   1.   0. ]\n",
      " [-0.5 -1.5  1. ]]= |a|"
     ]
    }
   ],
   "source": [
    "#Inverse a matrix\n",
    "a=np.array([\n",
    "    [2,1,0],\n",
    "    [0,1,0],\n",
    "    [1,2,1],\n",
    "])\n",
    "print(a,end=\"= a\\n\\n\")\n",
    "print(np.linalg.inv(a),end=\"= |a|\")"
   ]
  },
  {
   "cell_type": "code",
   "execution_count": 28,
   "id": "47a96d51-d008-4677-a22e-fa2c4910fa31",
   "metadata": {},
   "outputs": [
    {
     "name": "stdout",
     "output_type": "stream",
     "text": [
      "Iteration 1 \n",
      "X value is 3.0\n",
      "Iteration 2 \n",
      "X value is 1.4\n",
      "Iteration 3 \n",
      "X value is 0.11999999999999966\n",
      "Iteration 4 \n",
      "X value is -0.9040000000000001\n",
      "Iteration 5 \n",
      "X value is -1.7232000000000003\n",
      "Iteration 6 \n",
      "X value is -2.3785600000000002\n",
      "Iteration 7 \n",
      "X value is -2.902848\n",
      "Iteration 8 \n",
      "X value is -3.3222784\n",
      "The local minimum occurs at -3.3222784\n"
     ]
    }
   ],
   "source": [
    "#Gradient descent\n",
    "cur_x=5 #the algorithm starts at x=3\n",
    "rate=0.1 #learning rate\n",
    "precision=0.5 #this tells us when to stop the algorihtm\n",
    "previous_step_size=1\n",
    "max_iters=1000000\n",
    "iters=0 #iteration counter\n",
    "\n",
    "df=lambda x: 2*(x+5)  #gradient of our fuction\n",
    "\n",
    "while previous_step_size>precision and iters<max_iters:\n",
    "    prev_x=cur_x #store the current x value in previous x\n",
    "    cur_x=cur_x-rate*df(prev_x)   #gradient descent\n",
    "    previous_step_size=abs(cur_x-prev_x) #change in x\n",
    "    iters=iters+1 #iteraton count\n",
    "    print(\"Iteration\",iters,\"\\nX value is\",cur_x) #print iteration\n",
    "\n",
    "print(\"The local minimum occurs at\",cur_x)"
   ]
  },
  {
   "cell_type": "code",
   "execution_count": 46,
   "id": "e2257e87-4583-49f3-bbf1-077c96e6cae4",
   "metadata": {},
   "outputs": [
    {
     "name": "stdout",
     "output_type": "stream",
     "text": [
      "      Name  Salary\n",
      "0     Ravi   10000\n",
      "1  Abhinav   20000\n",
      "2   Rishav   10000\n",
      "3    Vikas   40000\n",
      "4    Gagan   50000\n",
      "5   Vishal   10000\n"
     ]
    }
   ],
   "source": [
    "import pandas as pd\n",
    "df=pd.DataFrame({'Name':['Ravi','Abhinav','Rishav','Vikas','Gagan','Vishal'],\n",
    "                 'Salary':[10000,20000,10000,40000,50000,10000]})\n",
    "print(df.head(6))"
   ]
  },
  {
   "cell_type": "code",
   "execution_count": 49,
   "id": "27f35006-8ffc-4540-ae51-2d64b59d65a3",
   "metadata": {},
   "outputs": [
    {
     "name": "stdout",
     "output_type": "stream",
     "text": [
      "mean: 23333.333333333332\n",
      "median: 15000.0\n",
      "mode: 0    10000\n",
      "Name: Salary, dtype: int64\n",
      "min: 10000\n",
      "max 50000\n",
      "range 40000\n"
     ]
    }
   ],
   "source": [
    "#calculate the mean,median,mode\n",
    "print('mean:',df['Salary'].mean())\n",
    "print('median:',df['Salary'].median())\n",
    "print('mode:',df['Salary'].mode())\n",
    "print('min:',df['Salary'].min())\n",
    "print('max:',df['Salary'].max())\n",
    "print('range:',df['Salary'].max()-df['Salary'].min())\n"
   ]
  },
  {
   "cell_type": "code",
   "execution_count": 50,
   "id": "f4d9075b-380a-4df3-8d09-740d13697922",
   "metadata": {},
   "outputs": [
    {
     "data": {
      "text/plain": [
       "count        6.000000\n",
       "mean     23333.333333\n",
       "std      17511.900715\n",
       "min      10000.000000\n",
       "25%      10000.000000\n",
       "50%      15000.000000\n",
       "75%      35000.000000\n",
       "max      50000.000000\n",
       "Name: Salary, dtype: float64"
      ]
     },
     "execution_count": 50,
     "metadata": {},
     "output_type": "execute_result"
    }
   ],
   "source": [
    "df['Salary'].describe()"
   ]
  },
  {
   "cell_type": "code",
   "execution_count": 52,
   "id": "a92cede9-06e0-46be-8748-c09c46443bb0",
   "metadata": {},
   "outputs": [
    {
     "data": {
      "image/png": "[encoded data removed]",
      "text/plain": [
       "<Figure size 640x480 with 1 Axes>"
      ]
     },
     "metadata": {},
     "output_type": "display_data"
    }
   ],
   "source": [
    "#Histogram of salaries\n",
    "%matplotlib inline\n",
    "import matplotlib.pyplot as plt\n",
    "\n",
    "df=pd.DataFrame({'Name':['Ravi','Abhinav','Rishav','Vikas','Gagan','Vishal'],\n",
    "                 'Salary':[10000,20000,10000,40000,50000,10000]})\n",
    "\n",
    "salary=df['Salary']\n",
    "salary.plot.hist(title='Salary Distribution',color='grey',bins=25)\n",
    "plt.axvline(salary.mean(),color='violet',linestyle='dashed',linewidth=2)\n",
    "plt.axvline(salary.median(),color='red',linestyle='dashed',linewidth=2)\n",
    "plt.show()\n",
    "\n",
    "\n"
   ]
  },
  {
   "cell_type": "code",
   "execution_count": 53,
   "id": "bb1195ae-9c8c-447d-833e-1fe6f8d3b922",
   "metadata": {},
   "outputs": [
    {
     "name": "stdout",
     "output_type": "stream",
     "text": [
      "{4, 7}\n",
      "<class 'set'>\n"
     ]
    }
   ],
   "source": [
    "#create a set with curly braces\n",
    "set1={4,7}\n",
    "print(set1)\n",
    "print(type(set1))"
   ]
  },
  {
   "cell_type": "code",
   "execution_count": 54,
   "id": "7d18d596-5d77-4d92-a67f-d511d16ce3d8",
   "metadata": {},
   "outputs": [
    {
     "name": "stdout",
     "output_type": "stream",
     "text": [
      "{1, 2, 3, 4}\n"
     ]
    }
   ],
   "source": [
    "#convert list into a set\n",
    "my_list=[1,2,3,4,4]\n",
    "my_set_from_list=set(my_list)\n",
    "print(my_set_from_list)"
   ]
  },
  {
   "cell_type": "code",
   "execution_count": 55,
   "id": "c6527921-6619-4a30-a36a-14bde486b85f",
   "metadata": {},
   "outputs": [
    {
     "name": "stdout",
     "output_type": "stream",
     "text": [
      "here is my set: {3, 5, 7}\n",
      "3 is in the set: True\n",
      "1 is in the set: False\n",
      "6 is not in the set: True\n"
     ]
    }
   ],
   "source": [
    "my_set=set([3,5,7])\n",
    "print(\"here is my set:\",my_set)\n",
    "print(\"3 is in the set:\",3 in my_set)\n",
    "print(\"1 is in the set:\",1 in my_set)\n",
    "print(\"6 is not in the set:\",6 not in my_set)"
   ]
  },
  {
   "cell_type": "code",
   "execution_count": 57,
   "id": "958a81f1-3123-49ed-982d-2d8373b6d285",
   "metadata": {},
   "outputs": [
    {
     "name": "stdout",
     "output_type": "stream",
     "text": [
      "A is set of all possible outcomes of a dice: {1, 2, 3, 4, 5, 6}\n",
      "B is set of all possible outcomes of a dice: {1, 2, 3, 4, 5, 6}\n",
      "\n",
      " Product of A and B is the all possible combination of A and B thrown together:\n",
      " [(1, 1), (1, 2), (1, 3), (1, 4), (1, 5), (1, 6), (2, 1), (2, 2), (2, 3), (2, 4), (2, 5), (2, 6), (3, 1), (3, 2), (3, 3), (3, 4), (3, 5), (3, 6), (4, 1), (4, 2), (4, 3), (4, 4), (4, 5), (4, 6), (5, 1), (5, 2), (5, 3), (5, 4), (5, 5), (5, 6), (6, 1), (6, 2), (6, 3), (6, 4), (6, 5), (6, 6)]\n"
     ]
    }
   ],
   "source": [
    "from itertools import product as prod\n",
    "A=set([x for x in range(1,7)])\n",
    "B=set([x for x in range(1,7)])\n",
    "p=list(prod(A,B))\n",
    "\n",
    "print(\"A is set of all possible outcomes of a dice:\",A)\n",
    "print(\"B is set of all possible outcomes of a dice:\",B)\n",
    "print(\"\\n Product of A and B is the all possible combination of A and B thrown together:\\n\",p)\n",
    "      "
   ]
  },
  {
   "cell_type": "code",
   "execution_count": 58,
   "id": "229a4fff-b1c8-40eb-bc6d-9adbf1018b1f",
   "metadata": {},
   "outputs": [
    {
     "data": {
      "text/plain": [
       "{(1, 1),\n",
       " (1, 2),\n",
       " (1, 3),\n",
       " (1, 4),\n",
       " (1, 5),\n",
       " (1, 6),\n",
       " (2, 1),\n",
       " (2, 2),\n",
       " (2, 3),\n",
       " (2, 4),\n",
       " (2, 5),\n",
       " (2, 6),\n",
       " (3, 1),\n",
       " (3, 2),\n",
       " (3, 3),\n",
       " (3, 4),\n",
       " (3, 5),\n",
       " (3, 6),\n",
       " (4, 1),\n",
       " (4, 2),\n",
       " (4, 3),\n",
       " (4, 4),\n",
       " (4, 5),\n",
       " (4, 6),\n",
       " (5, 1),\n",
       " (5, 2),\n",
       " (5, 3),\n",
       " (5, 4),\n",
       " (5, 5),\n",
       " (5, 6),\n",
       " (6, 1),\n",
       " (6, 2),\n",
       " (6, 3),\n",
       " (6, 4),\n",
       " (6, 5),\n",
       " (6, 6)}"
      ]
     },
     "execution_count": 58,
     "metadata": {},
     "output_type": "execute_result"
    }
   ],
   "source": [
    "#Throwing 2 dice\n",
    "n_dice=2\n",
    "dice_faces={1,2,3,4,5,6}\n",
    "\n",
    "#construct the event space\n",
    "event_space=set(prod(dice_faces,repeat=n_dice))\n",
    "event_space"
   ]
  },
  {
   "cell_type": "code",
   "execution_count": 60,
   "id": "252f1647-428f-4f54-98a9-5c05cfb707cd",
   "metadata": {},
   "outputs": [
    {
     "name": "stdout",
     "output_type": "stream",
     "text": [
      "(3, 4),(4, 3),(3, 1),(5, 4),(4, 6),(5, 1),(2, 2),(1, 6),(2, 5),(1, 3),(6, 2),(6, 5),(4, 2),(4, 5),(3, 3),(5, 6),(3, 6),(5, 3),(2, 4),(1, 2),(2, 1),(1, 5),(6, 1),(6, 4),(3, 2),(4, 1),(3, 5),(5, 2),(4, 4),(5, 5),(1, 1),(1, 4),(2, 3),(2, 6),(6, 6),(6, 3),"
     ]
    }
   ],
   "source": [
    "for outcome in event_space:\n",
    "    print(outcome,end=\",\")"
   ]
  },
  {
   "cell_type": "code",
   "execution_count": 68,
   "id": "c5a83336-9089-496f-a6f8-ff2492fe6d46",
   "metadata": {},
   "outputs": [
    {
     "name": "stdout",
     "output_type": "stream",
     "text": [
      "(2, 4),(1, 2),(2, 1),(1, 5),(5, 4),(5, 1),(4, 2),(4, 5),(3, 3),(3, 6),(6, 6),(6, 3),\n",
      "12\n",
      "Probablity is:  0.3333333333333333\n"
     ]
    }
   ],
   "source": [
    "#sum is a multiple of 3\n",
    "favourable_outcome=[]\n",
    "for outcome in event_space:\n",
    "    x,y =outcome\n",
    "    if(x+y)%3==0:\n",
    "        favourable_outcome.append(outcome)\n",
    "favourable_outcome=set(favourable_outcome)\n",
    "\n",
    "for f_outcome in favourable_outcome:\n",
    "    print(f_outcome,end=\",\")\n",
    "print()\n",
    "print(len(favourable_outcome))\n",
    "prob=len(favourable_outcome)/len(event_space)\n",
    "print(\"Probablity is: \",prob)"
   ]
  }
 ],
 "metadata": {
  "kernelspec": {
   "display_name": "Python 3 (ipykernel)",
   "language": "python",
   "name": "python3"
  },
  "language_info": {
   "codemirror_mode": {
    "name": "ipython",
    "version": 3
   },
   "file_extension": ".py",
   "mimetype": "text/x-python",
   "name": "python",
   "nbconvert_exporter": "python",
   "pygments_lexer": "ipython3",
   "version": "3.12.7"
  }
 },
 "nbformat": 4,
 "nbformat_minor": 5
}
